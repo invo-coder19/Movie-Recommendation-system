{
 "cells": [
  {
   "cell_type": "markdown",
   "id": "d0bf0203",
   "metadata": {},
   "source": [
    "# 🎬 Movie Recommendation System\n",
    "This Jupyter Notebook demonstrates a **Movie Recommendation System** using machine learning techniques.\n",
    "\n",
    "**Contents:**\n",
    "- Introduction\n",
    "- Data Preprocessing\n",
    "- Model Training & Evaluation\n",
    "- Making Movie Recommendations\n"
   ]
  },
  {
   "cell_type": "markdown",
   "id": "a6a9d090",
   "metadata": {},
   "source": [
    "## 📌 Introduction\n",
    "In this notebook, we build a **Movie Recommendation System** using **collaborative filtering** or **content-based filtering**. We use a dataset from Kaggle that contains information on movies, ratings, and user preferences.\n",
    "\n",
    "**Goal:** To recommend movies based on user preferences and movie similarity."
   ]
  },
  {
   "cell_type": "markdown",
   "id": "d98c9835",
   "metadata": {},
   "source": [
    "## 🗄️ Data Preprocessing\n",
    "Before building our recommendation model, we need to:\n",
    "- Load the dataset\n",
    "- Handle missing values\n",
    "- Process movie metadata\n",
    "- Create a similarity matrix"
   ]
  },
  {
   "cell_type": "markdown",
   "id": "ccca5604",
   "metadata": {},
   "source": [
    "## 🤖 Model Training & Evaluation\n",
    "We use different recommendation techniques such as:\n",
    "- **Content-Based Filtering** (based on movie metadata similarity)\n",
    "- **Collaborative Filtering** (based on user preferences and ratings)"
   ]
  },
  {
   "cell_type": "markdown",
   "id": "9c08cfda",
   "metadata": {},
   "source": [
    "## 🎥 Making Movie Recommendations\n",
    "After training the model, we generate movie recommendations based on user input. We display the top **N** most relevant movies according to our model."
   ]
  },
  {
   "cell_type": "markdown",
   "id": "64decd7b",
   "metadata": {},
   "source": [
    "## 📌 Conclusion\n",
    "This notebook demonstrates a basic movie recommendation system. Further improvements can be made by integrating hybrid models or using deep learning techniques."
   ]
  },
  {
   "cell_type": "markdown",
   "metadata": {
    "id": "ybBG-k7ps92k"
   },
   "source": [
    "MOVIE RECOMMENDATION SYSTEM"
   ]
  },
  {
   "cell_type": "code",
   "execution_count": 3,
   "metadata": {
    "executionInfo": {
     "elapsed": 5,
     "status": "ok",
     "timestamp": 1740665484826,
     "user": {
      "displayName": "SIH",
      "userId": "08849459671356706912"
     },
     "user_tz": -330
    },
    "id": "U9ZMFDJEtR9V"
   },
   "outputs": [],
   "source": [
    "import pandas as pd\n",
    "from sklearn.feature_extraction.text import TfidfVectorizer\n",
    "from sklearn.metrics.pairwise import cosine_similarity"
   ]
  },
  {
   "cell_type": "code",
   "execution_count": 4,
   "metadata": {
    "executionInfo": {
     "elapsed": 698,
     "status": "ok",
     "timestamp": 1740665491195,
     "user": {
      "displayName": "SIH",
      "userId": "08849459671356706912"
     },
     "user_tz": -330
    },
    "id": "tk3cwjD3vcsD"
   },
   "outputs": [],
   "source": [
    "# Load dataset\n",
    "file_path = \"movies.csv\"  # Update the path if needed\n",
    "df = pd.read_csv(file_path)"
   ]
  },
  {
   "cell_type": "code",
   "execution_count": 5,
   "metadata": {
    "executionInfo": {
     "elapsed": 625,
     "status": "ok",
     "timestamp": 1740665494022,
     "user": {
      "displayName": "SIH",
      "userId": "08849459671356706912"
     },
     "user_tz": -330
    },
    "id": "se0tX5m2vdE7"
   },
   "outputs": [],
   "source": [
    "# Fill missing values with an empty string\n",
    "df['genres'] = df['genres'].fillna('')\n",
    "df['keywords'] = df['keywords'].fillna('')\n",
    "df['cast'] = df['cast'].fillna('')\n",
    "df['director'] = df['director'].fillna('')"
   ]
  },
  {
   "cell_type": "code",
   "execution_count": 6,
   "metadata": {
    "executionInfo": {
     "elapsed": 4,
     "status": "ok",
     "timestamp": 1740665496420,
     "user": {
      "displayName": "SIH",
      "userId": "08849459671356706912"
     },
     "user_tz": -330
    },
    "id": "Yd9stxBLvd0C"
   },
   "outputs": [],
   "source": [
    "# Combine relevant features into a single string\n",
    "df['combined_features'] = df['genres'] + ' ' + df['keywords'] + ' ' + df['cast'] + ' ' + df['director']"
   ]
  },
  {
   "cell_type": "code",
   "execution_count": 7,
   "metadata": {
    "executionInfo": {
     "elapsed": 4,
     "status": "ok",
     "timestamp": 1740665500267,
     "user": {
      "displayName": "SIH",
      "userId": "08849459671356706912"
     },
     "user_tz": -330
    },
    "id": "jNyf-zDVveEi"
   },
   "outputs": [],
   "source": [
    "# Initialize TF-IDF Vectorizer\n",
    "tfidf_vectorizer = TfidfVectorizer(stop_words='english')\n",
    "tfidf_matrix = tfidf_vectorizer.fit_transform(df['combined_features'])"
   ]
  },
  {
   "cell_type": "code",
   "execution_count": 8,
   "metadata": {
    "executionInfo": {
     "elapsed": 1424,
     "status": "ok",
     "timestamp": 1740665505534,
     "user": {
      "displayName": "SIH",
      "userId": "08849459671356706912"
     },
     "user_tz": -330
    },
    "id": "xuF9rm1eveWW"
   },
   "outputs": [],
   "source": [
    "# Compute cosine similarity\n",
    "cosine_sim = cosine_similarity(tfidf_matrix, tfidf_matrix)"
   ]
  },
  {
   "cell_type": "code",
   "execution_count": 9,
   "metadata": {
    "executionInfo": {
     "elapsed": 5,
     "status": "ok",
     "timestamp": 1740665508884,
     "user": {
      "displayName": "SIH",
      "userId": "08849459671356706912"
     },
     "user_tz": -330
    },
    "id": "7A5H8QBZvuYY"
   },
   "outputs": [],
   "source": [
    "# Function to get movie recommendations based on user input\n",
    "def recommend_movies(movie_title, df, cosine_sim):\n",
    "    if movie_title not in df['title'].values:\n",
    "        return f\"Movie '{movie_title}' not found in dataset.\"\n",
    "\n",
    "    idx = df[df['title'] == movie_title].index[0]\n",
    "    similarity_scores = list(enumerate(cosine_sim[idx]))\n",
    "    similarity_scores = sorted(similarity_scores, key=lambda x: x[1], reverse=True)\n",
    "    top_10_movies = [df.iloc[i[0]]['title'] for i in similarity_scores[1:11]]\n",
    "\n",
    "    return top_10_movies"
   ]
  },
  {
   "cell_type": "code",
   "execution_count": 10,
   "metadata": {
    "colab": {
     "base_uri": "https://localhost:8080/"
    },
    "executionInfo": {
     "elapsed": 19712,
     "status": "ok",
     "timestamp": 1740665530876,
     "user": {
      "displayName": "SIH",
      "userId": "08849459671356706912"
     },
     "user_tz": -330
    },
    "id": "cP8bBlXmvxo_",
    "outputId": "dfdf1ade-eabb-4b75-f57f-8e305ad57b87"
   },
   "outputs": [
    {
     "name": "stdout",
     "output_type": "stream",
     "text": [
      "Enter your favorite movie: Alien\n"
     ]
    }
   ],
   "source": [
    "# Get user input\n",
    "user_movie = input(\"Enter your favorite movie: \")\n",
    "recommended_movies = recommend_movies(user_movie, df, cosine_sim)"
   ]
  },
  {
   "cell_type": "code",
   "execution_count": 11,
   "metadata": {
    "colab": {
     "base_uri": "https://localhost:8080/"
    },
    "executionInfo": {
     "elapsed": 382,
     "status": "ok",
     "timestamp": 1740665534166,
     "user": {
      "displayName": "SIH",
      "userId": "08849459671356706912"
     },
     "user_tz": -330
    },
    "id": "gosq1L0hvzzR",
    "outputId": "aacbb04d-3a57-48ed-8843-5a1b6276bfb5"
   },
   "outputs": [
    {
     "name": "stdout",
     "output_type": "stream",
     "text": [
      "\n",
      "Recommended movies:\n",
      "Alien³\n",
      "Aliens\n",
      "Planet of the Apes\n",
      "Avatar\n",
      "Moonraker\n",
      "Galaxy Quest\n",
      "Gravity\n",
      "Jason X\n",
      "Alien: Resurrection\n",
      "Silent Running\n"
     ]
    }
   ],
   "source": [
    "# Print recommendations\n",
    "if isinstance(recommended_movies, str):\n",
    "    print(recommended_movies)\n",
    "else:\n",
    "    print(\"\\nRecommended movies:\")\n",
    "    for movie in recommended_movies:\n",
    "        print(movie)"
   ]
  }
 ],
 "metadata": {
  "colab": {
   "authorship_tag": "ABX9TyMH7clfqeJ/2LHaIOQVP8u0",
   "provenance": []
  },
  "kernelspec": {
   "display_name": "Python 3",
   "name": "python3"
  },
  "language_info": {
   "name": "python"
  }
 },
 "nbformat": 4,
 "nbformat_minor": 0
}
